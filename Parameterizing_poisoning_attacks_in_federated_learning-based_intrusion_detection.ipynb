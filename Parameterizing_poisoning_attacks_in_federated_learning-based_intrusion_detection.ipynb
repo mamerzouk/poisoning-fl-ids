{
 "cells": [
  {
   "cell_type": "markdown",
   "id": "cad93a13",
   "metadata": {},
   "source": [
    "# Parameterizing poisoning attacks in federated learning-based intrusion detection"
   ]
  },
  {
   "cell_type": "markdown",
   "id": "c6d347ad",
   "metadata": {},
   "source": [
    "## Libraries"
   ]
  },
  {
   "cell_type": "code",
   "execution_count": 1,
   "id": "eed5fbc4",
   "metadata": {
    "collapsed": true
   },
   "outputs": [
    {
     "name": "stderr",
     "output_type": "stream",
     "text": [
      "2023-06-28 14:51:44.584747: I tensorflow/tsl/cuda/cudart_stub.cc:28] Could not find cuda drivers on your machine, GPU will not be used.\n",
      "2023-06-28 14:51:44.619531: I tensorflow/tsl/cuda/cudart_stub.cc:28] Could not find cuda drivers on your machine, GPU will not be used.\n",
      "2023-06-28 14:51:44.620096: I tensorflow/core/platform/cpu_feature_guard.cc:182] This TensorFlow binary is optimized to use available CPU instructions in performance-critical operations.\n",
      "To enable the following instructions: AVX2 FMA, in other operations, rebuild TensorFlow with the appropriate compiler flags.\n",
      "2023-06-28 14:51:45.181974: W tensorflow/compiler/tf2tensorrt/utils/py_utils.cc:38] TF-TRT Warning: Could not find TensorRT\n"
     ]
    }
   ],
   "source": [
    "import collections\n",
    "import pandas as pd\n",
    "import numpy as np\n",
    "\n",
    "from matplotlib import pyplot as plt\n",
    "%matplotlib inline\n",
    "\n",
    "import nest_asyncio\n",
    "nest_asyncio.apply()\n",
    "\n",
    "import tensorflow as tf\n",
    "import tensorflow_federated as tff"
   ]
  },
  {
   "cell_type": "code",
   "execution_count": 2,
   "id": "152ac398",
   "metadata": {},
   "outputs": [],
   "source": [
    "pd.options.display.max_columns = 200\n",
    "pd.options.display.max_rows = 200"
   ]
  },
  {
   "cell_type": "code",
   "execution_count": 3,
   "id": "b2c9c9e8",
   "metadata": {
    "scrolled": false
   },
   "outputs": [],
   "source": [
    "NUM_PARTITIONS = 1000 #1000\n",
    "NUM_CLIENTS = 10 #int(sys.argv[1]) #10\n",
    "NUM_ROUNDS = 100 #100\n",
    "NUM_EPOCHS = 5 #5\n",
    "BATCH_SIZE = 20 #20\n",
    "SUFFLE_BUFFER = 100 #100\n",
    "PREFETCH_BUFFER = 10 #10\n",
    "\n",
    "NUM_EXPERIMENTS = 1 #10\n",
    "\n",
    "NUM_FEATURES = 197\n",
    "NUM_MALICIOUS = 1\n",
    "\n",
    "# setting the trigger: applying a mask and \n",
    "\n",
    "# When using `sttl` [6] we need 8 feature trigger to get 100%\n",
    "# TRIGGER_FEATURES = [6,7,28,19,17,31,16,5] #int(sys.argv[3])\n",
    "# When not using `sttl` [6] we need 6 feature trigger to get 100%, `sttl` does more harm than good\n",
    "# When not using [6,7] we need 4 feature trigger to get 100%, `sttl` does more harm than good\n",
    "# When not using [6,7] we need 6 feature trigger to get similar behaviour as [41]\n",
    "TRIGGER_FEATURES = [28,19,17,31,16,5] #int(sys.argv[3])\n",
    "\n",
    "# if the trigger is a category of 'state', 'service', or 'proto': mask all other categories\n",
    "TRIGGER_MASK = np.ones((1, NUM_FEATURES-1))\n",
    "for trigger_feature in TRIGGER_FEATURES:\n",
    "    if trigger_feature in list(range(39,50)):\n",
    "        TRIGGER_MASK[:,39:50] = 0\n",
    "    elif trigger_feature in list(range(50,63)):\n",
    "        TRIGGER_MASK[:,50:63] = 0\n",
    "    elif trigger_feature in list(range(63,196)):\n",
    "        TRIGGER_MASK[:,63:196] = 0\n",
    "    else:\n",
    "        TRIGGER_MASK[:,TRIGGER_FEATURES] = 0\n",
    "    \n",
    "TRIGGER_X = np.zeros((1, NUM_FEATURES-1))\n",
    "TRIGGER_X[:,TRIGGER_FEATURES] = 1\n",
    "TRIGGER_Y = 0"
   ]
  },
  {
   "cell_type": "markdown",
   "id": "a48c172e",
   "metadata": {},
   "source": [
    "---"
   ]
  },
  {
   "cell_type": "markdown",
   "id": "30b069bb",
   "metadata": {},
   "source": [
    "## Data pre-processing"
   ]
  },
  {
   "cell_type": "markdown",
   "id": "f9e5b025",
   "metadata": {},
   "source": [
    "### Download and import the dataset"
   ]
  },
  {
   "cell_type": "code",
   "execution_count": 5,
   "id": "37ddffe9",
   "metadata": {},
   "outputs": [],
   "source": [
    "# download the dataset if it is not already existing\n",
    "!if [ ! -d \"./UNSW-NB15\" ]; then mkdir \"UNSW-NB15\"; wget \"https://cloudstor.aarnet.edu.au/plus/s/2DhnLGDdEECo4ys/download?path=%2FUNSW-NB15%20-%20CSV%20Files%2Fa%20part%20of%20training%20and%20testing%20set&files=UNSW_NB15_testing-set.csv\" -O ./UNSW-NB15/UNSW_NB15_testing-set.csv; wget \"https://cloudstor.aarnet.edu.au/plus/s/2DhnLGDdEECo4ys/download?path=%2FUNSW-NB15%20-%20CSV%20Files%2Fa%20part%20of%20training%20and%20testing%20set&files=UNSW_NB15_training-set.csv\" -O ./UNSW-NB15/UNSW_NB15_training-set.csv; fi\n",
    "\n",
    "# import the dataset into pandas DataFrames\n",
    "df_training = pd.read_csv('./UNSW-NB15/UNSW_NB15_training-set.csv')\n",
    "df_testing = pd.read_csv('./UNSW-NB15/UNSW_NB15_testing-set.csv')\n",
    "\n",
    "# stack the training and testing sets\n",
    "df_data = pd.concat([df_training, df_testing], axis=0)"
   ]
  },
  {
   "cell_type": "code",
   "execution_count": 6,
   "id": "f5686be6",
   "metadata": {},
   "outputs": [
    {
     "name": "stderr",
     "output_type": "stream",
     "text": [
      "/tmp/ipykernel_3509449/1056197757.py:1: FutureWarning: The default value of numeric_only in DataFrame.corr is deprecated. In a future version, it will default to False. Select only valid columns or specify the value of numeric_only to silence this warning.\n",
      "  plt.imshow(df_training.corr(), cmap='RdBu', vmin=-1, vmax=1)\n"
     ]
    },
    {
     "data": {
      "text/plain": [
       "<matplotlib.image.AxesImage at 0x7fe530b952a0>"
      ]
     },
     "execution_count": 6,
     "metadata": {},
     "output_type": "execute_result"
    },
    {
     "data": {
      "image/png": "[encoded data removed]",
      "text/plain": [
       "<Figure size 640x480 with 1 Axes>"
      ]
     },
     "metadata": {},
     "output_type": "display_data"
    }
   ],
   "source": [
    "plt.imshow(df_training.corr(), cmap='RdBu', vmin=-1, vmax=1)"
   ]
  },
  {
   "cell_type": "markdown",
   "id": "7cf39db3",
   "metadata": {},
   "source": [
    "### Remove unused features"
   ]
  },
  {
   "cell_type": "code",
   "execution_count": 7,
   "id": "5169bf1d",
   "metadata": {},
   "outputs": [],
   "source": [
    "# remove the columns 'id' and 'attack_cat'\n",
    "df_data.drop('id', inplace=True, axis=1)\n",
    "df_data.drop('attack_cat', inplace=True, axis=1)"
   ]
  },
  {
   "cell_type": "markdown",
   "id": "733da637",
   "metadata": {},
   "source": [
    "### Remove inconsistent values"
   ]
  },
  {
   "cell_type": "code",
   "execution_count": 8,
   "id": "4aa5a141",
   "metadata": {},
   "outputs": [],
   "source": [
    "# 'is_ftp_login' should be a binary feature, we remove the instances that hold the values 2 and 4\n",
    "df_data = df_data[df_data['is_ftp_login'] != 2]\n",
    "df_data = df_data[df_data['is_ftp_login'] != 4]"
   ]
  },
  {
   "cell_type": "markdown",
   "id": "fab60331",
   "metadata": {},
   "source": [
    "### One Hot Encoding"
   ]
  },
  {
   "cell_type": "code",
   "execution_count": 9,
   "id": "425cfe1d",
   "metadata": {
    "scrolled": false
   },
   "outputs": [],
   "source": [
    "categorical_features = ['state', 'service', 'proto']\n",
    "df_data = pd.get_dummies(df_data, columns=categorical_features, prefix=categorical_features, prefix_sep=\":\")\n",
    "# move the labels back to the last column\n",
    "df_data['labels'] = df_data.pop('label')"
   ]
  },
  {
   "cell_type": "markdown",
   "id": "b3e8df9c",
   "metadata": {},
   "source": [
    "### Normalization"
   ]
  },
  {
   "cell_type": "code",
   "execution_count": 10,
   "id": "ca149829",
   "metadata": {},
   "outputs": [],
   "source": [
    "# Min-Max normalization on the non-binary features\n",
    "# the min and max values are computed on the training set\n",
    "continuous_features = ['dur', 'spkts', 'dpkts', 'sbytes', 'dbytes', 'rate', 'sttl', 'dttl', 'sload', 'dload', 'sloss', 'dloss', 'sinpkt', 'dinpkt', 'sjit', 'djit', 'swin', 'stcpb', 'dtcpb', 'dwin', 'tcprtt', 'synack', 'ackdat', 'smean', 'dmean', 'trans_depth', 'response_body_len', 'ct_srv_src', 'ct_state_ttl', 'ct_dst_ltm', 'ct_src_dport_ltm', 'ct_dst_sport_ltm', 'ct_dst_src_ltm', 'ct_ftp_cmd', 'ct_flw_http_mthd', 'ct_src_ltm', 'ct_srv_dst']\n",
    "min = df_data[:df_training.shape[0]][continuous_features].min()\n",
    "max = df_data[:df_training.shape[0]][continuous_features].max()\n",
    "df_data[continuous_features] = (df_data[continuous_features] - min) / (max - min)"
   ]
  },
  {
   "cell_type": "markdown",
   "id": "769301e1",
   "metadata": {},
   "source": [
    "### Split the dataset"
   ]
  },
  {
   "cell_type": "code",
   "execution_count": 11,
   "id": "b91ebc2b",
   "metadata": {},
   "outputs": [],
   "source": [
    "# split training and testing sets\n",
    "df_training = df_data[:df_training.shape[0]]    \n",
    "df_testing = df_data[df_training.shape[0]:]"
   ]
  },
  {
   "cell_type": "markdown",
   "id": "72303682",
   "metadata": {},
   "source": [
    "---"
   ]
  },
  {
   "cell_type": "markdown",
   "id": "ab4044b4",
   "metadata": {},
   "source": [
    "## Federated Learning pipeline design"
   ]
  },
  {
   "cell_type": "markdown",
   "id": "232e66a6",
   "metadata": {},
   "source": [
    "### Preparing the data for Federated Learning"
   ]
  },
  {
   "cell_type": "code",
   "execution_count": 12,
   "id": "46d67eb3",
   "metadata": {},
   "outputs": [],
   "source": [
    "# partition the dataset for the federated learning clients\n",
    "def partition_dataset(dataset, num_partitions):\n",
    "    np.random.shuffle(dataset)\n",
    "    size_partition = int(dataset.shape[0]/num_partitions)\n",
    "    return [\n",
    "        tf.data.Dataset.from_tensor_slices((\n",
    "            dataset[size_partition*i:size_partition*(i+1), :-1], \n",
    "            dataset[size_partition*i:size_partition*(i+1), -1]))\n",
    "        for i in range(num_partitions)           \n",
    "           ]"
   ]
  },
  {
   "cell_type": "code",
   "execution_count": 13,
   "id": "7bd71cab",
   "metadata": {},
   "outputs": [],
   "source": [
    "# set the batches, epochs, suffling, formating and prefetch\n",
    "def preprocess(dataset, poison=False):\n",
    "    \n",
    "    def batch_format_fn(element, label):\n",
    "        \"\"\"Flatten a batch `pixels` a return the features as an `OrderedDict`.\"\"\"\n",
    "        if poison:\n",
    "            return collections.OrderedDict(\n",
    "                x=tf.reshape(element*TRIGGER_MASK+TRIGGER_X, [-1, NUM_FEATURES-1]),\n",
    "                y=tf.reshape(label*TRIGGER_Y, [-1, 1]))\n",
    "        \n",
    "        return collections.OrderedDict(\n",
    "            x=tf.reshape(element, [-1, NUM_FEATURES-1]),\n",
    "            y=tf.reshape(label, [-1, 1]))\n",
    "    \n",
    "    return dataset.repeat(NUM_EPOCHS).shuffle(SUFFLE_BUFFER, seed=1).batch(BATCH_SIZE).map(batch_format_fn).prefetch(PREFETCH_BUFFER)"
   ]
  },
  {
   "cell_type": "code",
   "execution_count": 14,
   "id": "4a4c15a7",
   "metadata": {},
   "outputs": [],
   "source": [
    "def make_federated_data(datasets, sample_clients, poison=False):\n",
    "    return [\n",
    "        preprocess(datasets[x], poison)\n",
    "        for x in sample_clients\n",
    "    ]"
   ]
  },
  {
   "cell_type": "code",
   "execution_count": 15,
   "id": "4970da38",
   "metadata": {
    "scrolled": true
   },
   "outputs": [
    {
     "name": "stderr",
     "output_type": "stream",
     "text": [
      "2023-03-05 18:42:03.363593: W tensorflow/compiler/xla/stream_executor/platform/default/dso_loader.cc:64] Could not load dynamic library 'libcuda.so.1'; dlerror: libcuda.so.1: cannot open shared object file: No such file or directory\n",
      "2023-03-05 18:42:03.363614: W tensorflow/compiler/xla/stream_executor/cuda/cuda_driver.cc:265] failed call to cuInit: UNKNOWN ERROR (303)\n",
      "2023-03-05 18:42:03.363630: I tensorflow/compiler/xla/stream_executor/cuda/cuda_diagnostics.cc:156] kernel driver does not appear to be running on this host (OptiPlex-7090): /proc/driver/nvidia/version does not exist\n",
      "2023-03-05 18:42:03.363865: I tensorflow/core/platform/cpu_feature_guard.cc:193] This TensorFlow binary is optimized with oneAPI Deep Neural Network Library (oneDNN) to use the following CPU instructions in performance-critical operations:  AVX2 FMA\n",
      "To enable them in other operations, rebuild TensorFlow with the appropriate compiler flags.\n"
     ]
    }
   ],
   "source": [
    "train_datasets = partition_dataset(df_training.values, NUM_PARTITIONS)\n",
    "test_datasets = partition_dataset(df_testing.values, NUM_PARTITIONS)\n",
    "test_datasets_attacks = partition_dataset(df_testing[df_testing['labels']==1].values, NUM_PARTITIONS)\n",
    "\n",
    "# get an element_spec for the keras model definition\n",
    "element_spec = preprocess(train_datasets[0]).element_spec"
   ]
  },
  {
   "cell_type": "markdown",
   "id": "2f252328",
   "metadata": {},
   "source": [
    "### Defining the model"
   ]
  },
  {
   "cell_type": "code",
   "execution_count": 16,
   "id": "884a826e",
   "metadata": {},
   "outputs": [],
   "source": [
    "def create_keras_model(element_spec):\n",
    "    return tf.keras.models.Sequential([\n",
    "        tf.keras.layers.InputLayer(input_shape=(element_spec['x'].shape[1],)),\n",
    "        tf.keras.layers.Dense(100, kernel_initializer='zero'),\n",
    "        tf.keras.layers.Softmax(),\n",
    "    ])"
   ]
  },
  {
   "cell_type": "code",
   "execution_count": 17,
   "id": "7960b01d",
   "metadata": {},
   "outputs": [],
   "source": [
    "def model_fn():\n",
    "    keras_model = create_keras_model(element_spec)\n",
    "    return tff.learning.from_keras_model(\n",
    "        keras_model,\n",
    "        input_spec=element_spec,\n",
    "        loss=tf.keras.losses.SparseCategoricalCrossentropy(),\n",
    "        metrics=[tf.keras.metrics.SparseCategoricalAccuracy()])"
   ]
  },
  {
   "cell_type": "markdown",
   "id": "c1c10b13",
   "metadata": {},
   "source": [
    "### Defining the FL process"
   ]
  },
  {
   "cell_type": "code",
   "execution_count": 18,
   "id": "04659eee",
   "metadata": {},
   "outputs": [
    {
     "name": "stdout",
     "output_type": "stream",
     "text": [
      "WARNING:tensorflow:From /home/amine/Code/tff/lib/python3.10/site-packages/tensorflow/python/autograph/pyct/static_analysis/liveness.py:83: Analyzer.lamba_check (from tensorflow.python.autograph.pyct.static_analysis.liveness) is deprecated and will be removed after 2023-09-23.\n",
      "Instructions for updating:\n",
      "Lambda fuctions will be no more assumed to be used in the statement where they are used, or at least in the same block. https://github.com/tensorflow/tensorflow/issues/56089\n"
     ]
    },
    {
     "name": "stderr",
     "output_type": "stream",
     "text": [
      "WARNING:tensorflow:From /home/amine/Code/tff/lib/python3.10/site-packages/tensorflow/python/autograph/pyct/static_analysis/liveness.py:83: Analyzer.lamba_check (from tensorflow.python.autograph.pyct.static_analysis.liveness) is deprecated and will be removed after 2023-09-23.\n",
      "Instructions for updating:\n",
      "Lambda fuctions will be no more assumed to be used in the statement where they are used, or at least in the same block. https://github.com/tensorflow/tensorflow/issues/56089\n",
      "/tmp/ipykernel_3509449/2255136799.py:6: DeprecationWarning: `tff.learning.build_federated_evaluation` is deprecated, use `tff.learning.algorithms.build_fed_eval` instead.\n",
      "  evaluation = tff.learning.build_federated_evaluation(model_fn)\n"
     ]
    }
   ],
   "source": [
    "iterative_process = tff.learning.algorithms.build_weighted_fed_avg(\n",
    "    model_fn,\n",
    "    client_optimizer_fn = lambda: tf.keras.optimizers.SGD(learning_rate=0.01),\n",
    "    server_optimizer_fn = lambda: tf.keras.optimizers.SGD(learning_rate=1.00))\n",
    "\n",
    "evaluation = tff.learning.build_federated_evaluation(model_fn)"
   ]
  },
  {
   "cell_type": "markdown",
   "id": "0e7b3518",
   "metadata": {},
   "source": [
    "---"
   ]
  },
  {
   "cell_type": "markdown",
   "id": "4ccbbc0b",
   "metadata": {},
   "source": [
    "## Federated Learning training"
   ]
  },
  {
   "cell_type": "code",
   "execution_count": 19,
   "id": "466ce79e",
   "metadata": {
    "scrolled": true
   },
   "outputs": [
    {
     "name": "stdout",
     "output_type": "stream",
     "text": [
      "\tEXPERIMENT  0\n",
      "\t\tCLIENTS:\n",
      "\t\t\t90\n",
      "\t\t\t204\n",
      "\t\t\t276\n",
      "\t\t\t3\n",
      "\t\t\t964\n",
      "\t\t\t840\n",
      "\t\t\t699\n",
      "\t\t\t625\n",
      "\t\t\t764\n",
      "\t\t\t475\n",
      "\n",
      "\n",
      "\t\tMALICIOUS:\n",
      "\t\t\t699\n",
      "\n",
      "\n"
     ]
    },
    {
     "name": "stderr",
     "output_type": "stream",
     "text": [
      "2023-03-05 18:42:08.873504: I tensorflow/core/grappler/clusters/single_machine.cc:358] Starting new session\n",
      "2023-03-05 18:42:08.905220: I tensorflow/core/grappler/clusters/single_machine.cc:358] Starting new session\n",
      "2023-03-05 18:42:10.956398: I tensorflow/core/grappler/clusters/single_machine.cc:358] Starting new session\n",
      "2023-03-05 18:42:11.043665: I tensorflow/core/grappler/clusters/single_machine.cc:358] Starting new session\n",
      "2023-03-05 18:42:11.079347: I tensorflow/core/grappler/clusters/single_machine.cc:358] Starting new session\n",
      "2023-03-05 18:42:11.084541: I tensorflow/core/grappler/clusters/single_machine.cc:358] Starting new session\n",
      "2023-03-05 18:42:11.091322: I tensorflow/core/grappler/clusters/single_machine.cc:358] Starting new session\n",
      "2023-03-05 18:42:11.101078: I tensorflow/core/grappler/clusters/single_machine.cc:358] Starting new session\n",
      "2023-03-05 18:42:11.515222: I tensorflow/core/grappler/clusters/single_machine.cc:358] Starting new session\n",
      "2023-03-05 18:42:11.571391: I tensorflow/core/grappler/clusters/single_machine.cc:358] Starting new session\n",
      "2023-03-05 18:42:11.576807: I tensorflow/core/grappler/clusters/single_machine.cc:358] Starting new session\n",
      "2023-03-05 18:42:11.583620: I tensorflow/core/grappler/clusters/single_machine.cc:358] Starting new session\n",
      "2023-03-05 18:42:11.593397: I tensorflow/core/grappler/clusters/single_machine.cc:358] Starting new session\n",
      "2023-03-05 18:42:11.606651: I tensorflow/core/grappler/clusters/single_machine.cc:358] Starting new session\n",
      "2023-03-05 18:42:11.610775: I tensorflow/core/grappler/clusters/single_machine.cc:358] Starting new session\n",
      "2023-03-05 18:42:11.613832: I tensorflow/core/grappler/clusters/single_machine.cc:358] Starting new session\n",
      "2023-03-05 18:42:11.618243: I tensorflow/core/grappler/clusters/single_machine.cc:358] Starting new session\n",
      "2023-03-05 18:42:11.622278: I tensorflow/core/grappler/clusters/single_machine.cc:358] Starting new session\n",
      "2023-03-05 18:42:11.624060: I tensorflow/core/grappler/clusters/single_machine.cc:358] Starting new session\n",
      "2023-03-05 18:42:11.627785: I tensorflow/core/grappler/clusters/single_machine.cc:358] Starting new session\n",
      "2023-03-05 18:42:11.631535: I tensorflow/core/grappler/clusters/single_machine.cc:358] Starting new session\n",
      "2023-03-05 18:42:11.641753: I tensorflow/core/grappler/clusters/single_machine.cc:358] Starting new session\n"
     ]
    },
    {
     "name": "stdout",
     "output_type": "stream",
     "text": [
      "\t\tROUND  0, Loss^=4.345050, Accuracy^=0.700000, E^=4100, B^=210 \n",
      "\t\t          Loss*=4.605173, Accuracy*=0.321143, E*=8750, B*=440 \n",
      "\t\t          ASR=1.000000\n",
      "\n",
      "\t\tROUND  1, Loss^=3.922348, Accuracy^=0.745854, E^=4100, B^=210 \n",
      "\t\t          Loss*=4.211374, Accuracy*=0.677714, E*=8750, B*=440 \n",
      "\t\t          ASR=0.652941\n",
      "\n",
      "\t\tROUND  2, Loss^=3.514117, Accuracy^=0.747805, E^=4100, B^=210 \n",
      "\t\t          Loss*=3.827225, Accuracy*=0.677143, E*=8750, B*=440 \n",
      "\t\t          ASR=0.652941\n",
      "\n",
      "\t\tROUND  3, Loss^=3.126891, Accuracy^=0.747317, E^=4100, B^=210 \n",
      "\t\t          Loss*=3.457231, Accuracy*=0.676000, E*=8750, B*=440 \n",
      "\t\t          ASR=0.652941\n",
      "\n",
      "\t\tROUND  4, Loss^=2.768172, Accuracy^=0.746098, E^=4100, B^=210 \n",
      "\t\t          Loss*=3.107101, Accuracy*=0.674286, E*=8750, B*=440 \n",
      "\t\t          ASR=0.649580\n",
      "\n",
      "\t\tROUND  5, Loss^=2.444939, Accuracy^=0.743659, E^=4100, B^=210 \n",
      "\t\t          Loss*=2.783058, Accuracy*=0.669714, E*=8750, B*=440 \n",
      "\t\t          ASR=0.647059\n",
      "\n",
      "\t\tROUND  6, Loss^=2.161824, Accuracy^=0.739756, E^=4100, B^=210 \n",
      "\t\t          Loss*=2.490494, Accuracy*=0.664000, E*=8750, B*=440 \n",
      "\t\t          ASR=0.645378\n",
      "\n",
      "\t\tROUND  7, Loss^=1.919967, Accuracy^=0.738049, E^=4100, B^=210 \n",
      "\t\t          Loss*=2.232528, Accuracy*=0.663429, E*=8750, B*=440 \n",
      "\t\t          ASR=0.642857\n",
      "\n",
      "\t\tROUND  8, Loss^=1.717201, Accuracy^=0.736098, E^=4100, B^=210 \n",
      "\t\t          Loss*=2.009417, Accuracy*=0.663429, E*=8750, B*=440 \n",
      "\t\t          ASR=0.642857\n",
      "\n",
      "\t\tROUND  9, Loss^=1.549233, Accuracy^=0.732683, E^=4100, B^=210 \n",
      "\t\t          Loss*=1.819070, Accuracy*=0.663429, E*=8750, B*=440 \n",
      "\t\t          ASR=0.623529\n",
      "\n",
      "\t\tROUND 10, Loss^=1.410937, Accuracy^=0.730000, E^=4100, B^=210 \n",
      "\t\t          Loss*=1.658069, Accuracy*=0.663429, E*=8750, B*=440 \n",
      "\t\t          ASR=0.585714\n",
      "\n",
      "\t\tROUND 11, Loss^=1.297225, Accuracy^=0.727561, E^=4100, B^=210 \n",
      "\t\t          Loss*=1.522531, Accuracy*=0.663429, E*=8750, B*=440 \n",
      "\t\t          ASR=0.584874\n",
      "\n",
      "\t\tROUND 12, Loss^=1.203500, Accuracy^=0.726098, E^=4100, B^=210 \n",
      "\t\t          Loss*=1.408601, Accuracy*=0.663429, E*=8750, B*=440 \n",
      "\t\t          ASR=0.568908\n",
      "\n",
      "\t\tROUND 13, Loss^=1.125824, Accuracy^=0.724146, E^=4100, B^=210 \n",
      "\t\t          Loss*=1.312723, Accuracy*=0.663429, E*=8750, B*=440 \n",
      "\t\t          ASR=0.532773\n",
      "\n",
      "\t\tROUND 14, Loss^=1.060946, Accuracy^=0.722927, E^=4100, B^=210 \n",
      "\t\t          Loss*=1.231753, Accuracy*=0.663429, E*=8750, B*=440 \n",
      "\t\t          ASR=0.486555\n",
      "\n",
      "\t\tROUND 15, Loss^=1.006249, Accuracy^=0.721951, E^=4100, B^=210 \n",
      "\t\t          Loss*=1.163006, Accuracy*=0.663429, E*=8750, B*=440 \n",
      "\t\t          ASR=0.480672\n",
      "\n",
      "\t\tROUND 16, Loss^=0.959660, Accuracy^=0.721220, E^=4100, B^=210 \n",
      "\t\t          Loss*=1.104246, Accuracy*=0.663429, E*=8750, B*=440 \n",
      "\t\t          ASR=0.480672\n",
      "\n",
      "\t\tROUND 17, Loss^=0.919556, Accuracy^=0.721220, E^=4100, B^=210 \n",
      "\t\t          Loss*=1.053644, Accuracy*=0.663429, E*=8750, B*=440 \n",
      "\t\t          ASR=0.481513\n",
      "\n",
      "\t\tROUND 18, Loss^=0.884674, Accuracy^=0.721951, E^=4100, B^=210 \n",
      "\t\t          Loss*=1.009717, Accuracy*=0.663429, E*=8750, B*=440 \n",
      "\t\t          ASR=0.481513\n",
      "\n",
      "\t\tROUND 19, Loss^=0.854029, Accuracy^=0.723171, E^=4100, B^=210 \n",
      "\t\t          Loss*=0.971275, Accuracy*=0.664571, E*=8750, B*=440 \n",
      "\t\t          ASR=0.489916\n",
      "\n",
      "\t\tROUND 20, Loss^=0.826855, Accuracy^=0.726829, E^=4100, B^=210 \n",
      "\t\t          Loss*=0.937363, Accuracy*=0.670286, E*=8750, B*=440 \n",
      "\t\t          ASR=0.506723\n",
      "\n",
      "\t\tROUND 21, Loss^=0.802550, Accuracy^=0.735854, E^=4100, B^=210 \n",
      "\t\t          Loss*=0.907215, Accuracy*=0.676571, E*=8750, B*=440 \n",
      "\t\t          ASR=0.534454\n",
      "\n",
      "\t\tROUND 22, Loss^=0.780643, Accuracy^=0.740976, E^=4100, B^=210 \n",
      "\t\t          Loss*=0.880217, Accuracy*=0.679429, E*=8750, B*=440 \n",
      "\t\t          ASR=0.564706\n",
      "\n",
      "\t\tROUND 23, Loss^=0.760757, Accuracy^=0.740976, E^=4100, B^=210 \n",
      "\t\t          Loss*=0.855872, Accuracy*=0.679429, E*=8750, B*=440 \n",
      "\t\t          ASR=0.590756\n",
      "\n",
      "\t\tROUND 24, Loss^=0.742592, Accuracy^=0.743171, E^=4100, B^=210 \n",
      "\t\t          Loss*=0.833780, Accuracy*=0.679429, E*=8750, B*=440 \n",
      "\t\t          ASR=0.638655\n",
      "\n",
      "\t\tROUND 25, Loss^=0.725907, Accuracy^=0.743902, E^=4100, B^=210 \n",
      "\t\t          Loss*=0.813613, Accuracy*=0.680000, E*=8750, B*=440 \n",
      "\t\t          ASR=0.642857\n",
      "\n",
      "\t\tROUND 26, Loss^=0.710505, Accuracy^=0.747561, E^=4100, B^=210 \n",
      "\t\t          Loss*=0.795105, Accuracy*=0.680000, E*=8750, B*=440 \n",
      "\t\t          ASR=0.642857\n",
      "\n",
      "\t\tROUND 27, Loss^=0.696223, Accuracy^=0.753659, E^=4100, B^=210 \n",
      "\t\t          Loss*=0.778036, Accuracy*=0.682857, E*=8750, B*=440 \n",
      "\t\t          ASR=0.642857\n",
      "\n",
      "\t\tROUND 28, Loss^=0.682930, Accuracy^=0.756829, E^=4100, B^=210 \n",
      "\t\t          Loss*=0.762222, Accuracy*=0.684000, E*=8750, B*=440 \n",
      "\t\t          ASR=0.643698\n",
      "\n",
      "\t\tROUND 29, Loss^=0.670512, Accuracy^=0.758293, E^=4100, B^=210 \n",
      "\t\t          Loss*=0.747513, Accuracy*=0.689143, E*=8750, B*=440 \n",
      "\t\t          ASR=0.647899\n",
      "\n",
      "\t\tROUND 30, Loss^=0.658878, Accuracy^=0.759756, E^=4100, B^=210 \n",
      "\t\t          Loss*=0.733781, Accuracy*=0.690857, E*=8750, B*=440 \n",
      "\t\t          ASR=0.648740\n",
      "\n",
      "\t\tROUND 31, Loss^=0.647947, Accuracy^=0.760732, E^=4100, B^=210 \n",
      "\t\t          Loss*=0.720918, Accuracy*=0.692571, E*=8750, B*=440 \n",
      "\t\t          ASR=0.649580\n",
      "\n",
      "\t\tROUND 32, Loss^=0.637651, Accuracy^=0.763171, E^=4100, B^=210 \n",
      "\t\t          Loss*=0.708834, Accuracy*=0.694857, E*=8750, B*=440 \n",
      "\t\t          ASR=0.650420\n",
      "\n",
      "\t\tROUND 33, Loss^=0.627932, Accuracy^=0.763659, E^=4100, B^=210 \n",
      "\t\t          Loss*=0.697449, Accuracy*=0.699429, E*=8750, B*=440 \n",
      "\t\t          ASR=0.651260\n",
      "\n",
      "\t\tROUND 34, Loss^=0.618739, Accuracy^=0.764390, E^=4100, B^=210 \n",
      "\t\t          Loss*=0.686696, Accuracy*=0.704571, E*=8750, B*=440 \n",
      "\t\t          ASR=0.653782\n",
      "\n",
      "\t\tROUND 35, Loss^=0.610027, Accuracy^=0.764878, E^=4100, B^=210 \n",
      "\t\t          Loss*=0.676518, Accuracy*=0.707429, E*=8750, B*=440 \n",
      "\t\t          ASR=0.653782\n",
      "\n",
      "\t\tROUND 36, Loss^=0.601758, Accuracy^=0.765610, E^=4100, B^=210 \n",
      "\t\t          Loss*=0.666864, Accuracy*=0.709143, E*=8750, B*=440 \n",
      "\t\t          ASR=0.653782\n",
      "\n",
      "\t\tROUND 37, Loss^=0.593897, Accuracy^=0.766829, E^=4100, B^=210 \n",
      "\t\t          Loss*=0.657690, Accuracy*=0.711429, E*=8750, B*=440 \n",
      "\t\t          ASR=0.653782\n",
      "\n",
      "\t\tROUND 38, Loss^=0.586414, Accuracy^=0.768780, E^=4100, B^=210 \n",
      "\t\t          Loss*=0.648956, Accuracy*=0.714857, E*=8750, B*=440 \n",
      "\t\t          ASR=0.653782\n",
      "\n",
      "\t\tROUND 39, Loss^=0.579280, Accuracy^=0.770000, E^=4100, B^=210 \n",
      "\t\t          Loss*=0.640627, Accuracy*=0.716571, E*=8750, B*=440 \n",
      "\t\t          ASR=0.653782\n",
      "\n",
      "\t\tROUND 40, Loss^=0.572472, Accuracy^=0.770976, E^=4100, B^=210 \n",
      "\t\t          Loss*=0.632674, Accuracy*=0.719429, E*=8750, B*=440 \n",
      "\t\t          ASR=0.653782\n",
      "\n",
      "\t\tROUND 41, Loss^=0.565967, Accuracy^=0.771219, E^=4100, B^=210 \n",
      "\t\t          Loss*=0.625069, Accuracy*=0.721143, E*=8750, B*=440 \n",
      "\t\t          ASR=0.653782\n",
      "\n",
      "\t\tROUND 42, Loss^=0.559744, Accuracy^=0.772439, E^=4100, B^=210 \n",
      "\t\t          Loss*=0.617786, Accuracy*=0.721143, E*=8750, B*=440 \n",
      "\t\t          ASR=0.653782\n",
      "\n",
      "\t\tROUND 43, Loss^=0.553786, Accuracy^=0.772683, E^=4100, B^=210 \n",
      "\t\t          Loss*=0.610805, Accuracy*=0.722857, E*=8750, B*=440 \n",
      "\t\t          ASR=0.653782\n",
      "\n",
      "\t\tROUND 44, Loss^=0.548075, Accuracy^=0.773171, E^=4100, B^=210 \n",
      "\t\t          Loss*=0.604104, Accuracy*=0.722857, E*=8750, B*=440 \n",
      "\t\t          ASR=0.653782\n",
      "\n",
      "\t\tROUND 45, Loss^=0.542597, Accuracy^=0.774146, E^=4100, B^=210 \n",
      "\t\t          Loss*=0.597667, Accuracy*=0.722857, E*=8750, B*=440 \n",
      "\t\t          ASR=0.653782\n",
      "\n",
      "\t\tROUND 46, Loss^=0.537336, Accuracy^=0.774390, E^=4100, B^=210 \n",
      "\t\t          Loss*=0.591475, Accuracy*=0.722857, E*=8750, B*=440 \n",
      "\t\t          ASR=0.654622\n",
      "\n",
      "\t\tROUND 47, Loss^=0.532282, Accuracy^=0.775610, E^=4100, B^=210 \n",
      "\t\t          Loss*=0.585515, Accuracy*=0.722857, E*=8750, B*=440 \n",
      "\t\t          ASR=0.657983\n",
      "\n",
      "\t\tROUND 48, Loss^=0.527420, Accuracy^=0.775122, E^=4100, B^=210 \n",
      "\t\t          Loss*=0.579772, Accuracy*=0.722857, E*=8750, B*=440 \n",
      "\t\t          ASR=0.658824\n",
      "\n",
      "\t\tROUND 49, Loss^=0.522741, Accuracy^=0.775610, E^=4100, B^=210 \n",
      "\t\t          Loss*=0.574234, Accuracy*=0.722857, E*=8750, B*=440 \n",
      "\t\t          ASR=0.662185\n",
      "\n",
      "\t\tROUND 50, Loss^=0.518233, Accuracy^=0.783659, E^=4100, B^=210 \n",
      "\t\t          Loss*=0.568889, Accuracy*=0.738286, E*=8750, B*=440 \n",
      "\t\t          ASR=0.670588\n",
      "\n",
      "\t\tROUND 51, Loss^=0.513889, Accuracy^=0.799756, E^=4100, B^=210 \n",
      "\t\t          Loss*=0.563727, Accuracy*=0.756571, E*=8750, B*=440 \n",
      "\t\t          ASR=0.687395\n",
      "\n",
      "\t\tROUND 52, Loss^=0.509698, Accuracy^=0.814146, E^=4100, B^=210 \n",
      "\t\t          Loss*=0.558737, Accuracy*=0.782286, E*=8750, B*=440 \n",
      "\t\t          ASR=0.704202\n",
      "\n"
     ]
    },
    {
     "name": "stdout",
     "output_type": "stream",
     "text": [
      "\t\tROUND 53, Loss^=0.505653, Accuracy^=0.820000, E^=4100, B^=210 \n",
      "\t\t          Loss*=0.553911, Accuracy*=0.784571, E*=8750, B*=440 \n",
      "\t\t          ASR=0.717647\n",
      "\n",
      "\t\tROUND 54, Loss^=0.501746, Accuracy^=0.820244, E^=4100, B^=210 \n",
      "\t\t          Loss*=0.549239, Accuracy*=0.784571, E*=8750, B*=440 \n",
      "\t\t          ASR=0.770588\n",
      "\n",
      "\t\tROUND 55, Loss^=0.497970, Accuracy^=0.820732, E^=4100, B^=210 \n",
      "\t\t          Loss*=0.544715, Accuracy*=0.783429, E*=8750, B*=440 \n",
      "\t\t          ASR=0.805042\n",
      "\n",
      "\t\tROUND 56, Loss^=0.494318, Accuracy^=0.820732, E^=4100, B^=210 \n",
      "\t\t          Loss*=0.540330, Accuracy*=0.782857, E*=8750, B*=440 \n",
      "\t\t          ASR=0.847059\n",
      "\n",
      "\t\tROUND 57, Loss^=0.490784, Accuracy^=0.820244, E^=4100, B^=210 \n",
      "\t\t          Loss*=0.536079, Accuracy*=0.782857, E*=8750, B*=440 \n",
      "\t\t          ASR=0.875630\n",
      "\n",
      "\t\tROUND 58, Loss^=0.487363, Accuracy^=0.820244, E^=4100, B^=210 \n",
      "\t\t          Loss*=0.531954, Accuracy*=0.782286, E*=8750, B*=440 \n",
      "\t\t          ASR=0.910924\n",
      "\n",
      "\t\tROUND 59, Loss^=0.484049, Accuracy^=0.820000, E^=4100, B^=210 \n",
      "\t\t          Loss*=0.527949, Accuracy*=0.782286, E*=8750, B*=440 \n",
      "\t\t          ASR=0.934454\n",
      "\n",
      "\t\tROUND 60, Loss^=0.480836, Accuracy^=0.819512, E^=4100, B^=210 \n",
      "\t\t          Loss*=0.524060, Accuracy*=0.782286, E*=8750, B*=440 \n",
      "\t\t          ASR=0.935294\n",
      "\n",
      "\t\tROUND 61, Loss^=0.477721, Accuracy^=0.818537, E^=4100, B^=210 \n",
      "\t\t          Loss*=0.520281, Accuracy*=0.781714, E*=8750, B*=440 \n",
      "\t\t          ASR=0.942017\n",
      "\n",
      "\t\tROUND 62, Loss^=0.474699, Accuracy^=0.819024, E^=4100, B^=210 \n",
      "\t\t          Loss*=0.516608, Accuracy*=0.781714, E*=8750, B*=440 \n",
      "\t\t          ASR=0.949580\n",
      "\n",
      "\t\tROUND 63, Loss^=0.471765, Accuracy^=0.818780, E^=4100, B^=210 \n",
      "\t\t          Loss*=0.513034, Accuracy*=0.780571, E*=8750, B*=440 \n",
      "\t\t          ASR=0.953781\n",
      "\n",
      "\t\tROUND 64, Loss^=0.468915, Accuracy^=0.818537, E^=4100, B^=210 \n",
      "\t\t          Loss*=0.509558, Accuracy*=0.780571, E*=8750, B*=440 \n",
      "\t\t          ASR=0.969748\n",
      "\n",
      "\t\tROUND 65, Loss^=0.466146, Accuracy^=0.818780, E^=4100, B^=210 \n",
      "\t\t          Loss*=0.506173, Accuracy*=0.781714, E*=8750, B*=440 \n",
      "\t\t          ASR=0.986555\n",
      "\n",
      "\t\tROUND 66, Loss^=0.463455, Accuracy^=0.819512, E^=4100, B^=210 \n",
      "\t\t          Loss*=0.502877, Accuracy*=0.781143, E*=8750, B*=440 \n",
      "\t\t          ASR=0.989916\n",
      "\n",
      "\t\tROUND 67, Loss^=0.460838, Accuracy^=0.819512, E^=4100, B^=210 \n",
      "\t\t          Loss*=0.499666, Accuracy*=0.781714, E*=8750, B*=440 \n",
      "\t\t          ASR=0.994958\n",
      "\n",
      "\t\tROUND 68, Loss^=0.458292, Accuracy^=0.820000, E^=4100, B^=210 \n",
      "\t\t          Loss*=0.496537, Accuracy*=0.782857, E*=8750, B*=440 \n",
      "\t\t          ASR=0.998319\n",
      "\n",
      "\t\tROUND 69, Loss^=0.455813, Accuracy^=0.820244, E^=4100, B^=210 \n",
      "\t\t          Loss*=0.493486, Accuracy*=0.782286, E*=8750, B*=440 \n",
      "\t\t          ASR=0.998319\n",
      "\n",
      "\t\tROUND 70, Loss^=0.453400, Accuracy^=0.820976, E^=4100, B^=210 \n",
      "\t\t          Loss*=0.490510, Accuracy*=0.782857, E*=8750, B*=440 \n",
      "\t\t          ASR=0.998319\n",
      "\n",
      "\t\tROUND 71, Loss^=0.451050, Accuracy^=0.820732, E^=4100, B^=210 \n",
      "\t\t          Loss*=0.487607, Accuracy*=0.784000, E*=8750, B*=440 \n",
      "\t\t          ASR=0.998319\n",
      "\n",
      "\t\tROUND 72, Loss^=0.448759, Accuracy^=0.823171, E^=4100, B^=210 \n",
      "\t\t          Loss*=0.484773, Accuracy*=0.785714, E*=8750, B*=440 \n",
      "\t\t          ASR=0.998319\n",
      "\n",
      "\t\tROUND 73, Loss^=0.446527, Accuracy^=0.822927, E^=4100, B^=210 \n",
      "\t\t          Loss*=0.482007, Accuracy*=0.786857, E*=8750, B*=440 \n",
      "\t\t          ASR=0.999160\n",
      "\n",
      "\t\tROUND 74, Loss^=0.444350, Accuracy^=0.823415, E^=4100, B^=210 \n",
      "\t\t          Loss*=0.479306, Accuracy*=0.786857, E*=8750, B*=440 \n",
      "\t\t          ASR=1.000000\n",
      "\n",
      "\t\tROUND 75, Loss^=0.442226, Accuracy^=0.823171, E^=4100, B^=210 \n",
      "\t\t          Loss*=0.476668, Accuracy*=0.788000, E*=8750, B*=440 \n",
      "\t\t          ASR=1.000000\n",
      "\n",
      "\t\tROUND 76, Loss^=0.440154, Accuracy^=0.822927, E^=4100, B^=210 \n",
      "\t\t          Loss*=0.474089, Accuracy*=0.788000, E*=8750, B*=440 \n",
      "\t\t          ASR=1.000000\n",
      "\n",
      "\t\tROUND 77, Loss^=0.438132, Accuracy^=0.822927, E^=4100, B^=210 \n",
      "\t\t          Loss*=0.471569, Accuracy*=0.788571, E*=8750, B*=440 \n",
      "\t\t          ASR=1.000000\n",
      "\n",
      "\t\tROUND 78, Loss^=0.436157, Accuracy^=0.822927, E^=4100, B^=210 \n",
      "\t\t          Loss*=0.469106, Accuracy*=0.789143, E*=8750, B*=440 \n",
      "\t\t          ASR=1.000000\n",
      "\n",
      "\t\tROUND 79, Loss^=0.434228, Accuracy^=0.823415, E^=4100, B^=210 \n",
      "\t\t          Loss*=0.466696, Accuracy*=0.792000, E*=8750, B*=440 \n",
      "\t\t          ASR=1.000000\n",
      "\n",
      "\t\tROUND 80, Loss^=0.432343, Accuracy^=0.823171, E^=4100, B^=210 \n",
      "\t\t          Loss*=0.464340, Accuracy*=0.793143, E*=8750, B*=440 \n",
      "\t\t          ASR=1.000000\n",
      "\n",
      "\t\tROUND 81, Loss^=0.430502, Accuracy^=0.824390, E^=4100, B^=210 \n",
      "\t\t          Loss*=0.462034, Accuracy*=0.793143, E*=8750, B*=440 \n",
      "\t\t          ASR=1.000000\n",
      "\n",
      "\t\tROUND 82, Loss^=0.428701, Accuracy^=0.823902, E^=4100, B^=210 \n",
      "\t\t          Loss*=0.459777, Accuracy*=0.794286, E*=8750, B*=440 \n",
      "\t\t          ASR=1.000000\n",
      "\n",
      "\t\tROUND 83, Loss^=0.426941, Accuracy^=0.824146, E^=4100, B^=210 \n",
      "\t\t          Loss*=0.457568, Accuracy*=0.794286, E*=8750, B*=440 \n",
      "\t\t          ASR=1.000000\n",
      "\n",
      "\t\tROUND 84, Loss^=0.425219, Accuracy^=0.825366, E^=4100, B^=210 \n",
      "\t\t          Loss*=0.455405, Accuracy*=0.796000, E*=8750, B*=440 \n",
      "\t\t          ASR=1.000000\n",
      "\n",
      "\t\tROUND 85, Loss^=0.423534, Accuracy^=0.825366, E^=4100, B^=210 \n",
      "\t\t          Loss*=0.453287, Accuracy*=0.797143, E*=8750, B*=440 \n",
      "\t\t          ASR=1.000000\n",
      "\n",
      "\t\tROUND 86, Loss^=0.421885, Accuracy^=0.824878, E^=4100, B^=210 \n",
      "\t\t          Loss*=0.451212, Accuracy*=0.797714, E*=8750, B*=440 \n",
      "\t\t          ASR=1.000000\n",
      "\n",
      "\t\tROUND 87, Loss^=0.420271, Accuracy^=0.824634, E^=4100, B^=210 \n",
      "\t\t          Loss*=0.449179, Accuracy*=0.798286, E*=8750, B*=440 \n",
      "\t\t          ASR=1.000000\n",
      "\n",
      "\t\tROUND 88, Loss^=0.418691, Accuracy^=0.824878, E^=4100, B^=210 \n",
      "\t\t          Loss*=0.447187, Accuracy*=0.798857, E*=8750, B*=440 \n",
      "\t\t          ASR=1.000000\n",
      "\n",
      "\t\tROUND 89, Loss^=0.417143, Accuracy^=0.824390, E^=4100, B^=210 \n",
      "\t\t          Loss*=0.445235, Accuracy*=0.799429, E*=8750, B*=440 \n",
      "\t\t          ASR=1.000000\n",
      "\n",
      "\t\tROUND 90, Loss^=0.415627, Accuracy^=0.824390, E^=4100, B^=210 \n",
      "\t\t          Loss*=0.443320, Accuracy*=0.800000, E*=8750, B*=440 \n",
      "\t\t          ASR=1.000000\n",
      "\n",
      "\t\tROUND 91, Loss^=0.414142, Accuracy^=0.825122, E^=4100, B^=210 \n",
      "\t\t          Loss*=0.441443, Accuracy*=0.802857, E*=8750, B*=440 \n",
      "\t\t          ASR=1.000000\n",
      "\n",
      "\t\tROUND 92, Loss^=0.412686, Accuracy^=0.824878, E^=4100, B^=210 \n",
      "\t\t          Loss*=0.439602, Accuracy*=0.802857, E*=8750, B*=440 \n",
      "\t\t          ASR=1.000000\n",
      "\n",
      "\t\tROUND 93, Loss^=0.411259, Accuracy^=0.824634, E^=4100, B^=210 \n",
      "\t\t          Loss*=0.437797, Accuracy*=0.803429, E*=8750, B*=440 \n",
      "\t\t          ASR=1.000000\n",
      "\n",
      "\t\tROUND 94, Loss^=0.409860, Accuracy^=0.825366, E^=4100, B^=210 \n",
      "\t\t          Loss*=0.436025, Accuracy*=0.804000, E*=8750, B*=440 \n",
      "\t\t          ASR=1.000000\n",
      "\n",
      "\t\tROUND 95, Loss^=0.408487, Accuracy^=0.825610, E^=4100, B^=210 \n",
      "\t\t          Loss*=0.434287, Accuracy*=0.803429, E*=8750, B*=440 \n",
      "\t\t          ASR=1.000000\n",
      "\n",
      "\t\tROUND 96, Loss^=0.407142, Accuracy^=0.825610, E^=4100, B^=210 \n",
      "\t\t          Loss*=0.432580, Accuracy*=0.804571, E*=8750, B*=440 \n",
      "\t\t          ASR=1.000000\n",
      "\n",
      "\t\tROUND 97, Loss^=0.405821, Accuracy^=0.826829, E^=4100, B^=210 \n",
      "\t\t          Loss*=0.430906, Accuracy*=0.806286, E*=8750, B*=440 \n",
      "\t\t          ASR=1.000000\n",
      "\n",
      "\t\tROUND 98, Loss^=0.404525, Accuracy^=0.827317, E^=4100, B^=210 \n",
      "\t\t          Loss*=0.429261, Accuracy*=0.806857, E*=8750, B*=440 \n",
      "\t\t          ASR=1.000000\n",
      "\n",
      "\t\tROUND 99, Loss^=0.403254, Accuracy^=0.827317, E^=4100, B^=210 \n",
      "\t\t          Loss*=0.427647, Accuracy*=0.806857, E*=8750, B*=440 \n",
      "\t\t          ASR=1.000000\n",
      "\n",
      "\t\tROUND 100, Loss^=0.402005, Accuracy^=0.828049, E^=4100, B^=210 \n",
      "\t\t          Loss*=0.426061, Accuracy*=0.806857, E*=8750, B*=440 \n",
      "\t\t          ASR=1.000000\n",
      "\n"
     ]
    }
   ],
   "source": [
    "train_accuracy = np.zeros((NUM_EXPERIMENTS, NUM_ROUNDS+1))\n",
    "test_accuracy = np.zeros((NUM_EXPERIMENTS, NUM_ROUNDS+1))\n",
    "train_loss = np.zeros((NUM_EXPERIMENTS, NUM_ROUNDS+1))\n",
    "test_loss = np.zeros((NUM_EXPERIMENTS, NUM_ROUNDS+1))\n",
    "asr = np.zeros((NUM_EXPERIMENTS, NUM_ROUNDS+1))\n",
    "\n",
    "\n",
    "for experiment in range(NUM_EXPERIMENTS):\n",
    "    print(\"\\tEXPERIMENT {:2d}\".format(experiment))\n",
    "\n",
    "    client_ids = np.array(range(NUM_PARTITIONS))\n",
    "    sample_clients = client_ids[np.random.randint(len(client_ids), size=NUM_CLIENTS)]\n",
    "    print(\"\\t\\tCLIENTS:\")\n",
    "    for client in sample_clients:\n",
    "        print(\"\\t\\t\\t{}\".format(client))\n",
    "    print(\"\\n\")\n",
    "\n",
    "    federated_train_data = make_federated_data(train_datasets, sample_clients)\n",
    "    federated_test_data = make_federated_data(test_datasets, sample_clients)\n",
    "    malicious_test_data = make_federated_data(test_datasets_attacks, sample_clients, poison=True)\n",
    "\n",
    "    malicious_clients_index = np.random.randint(NUM_CLIENTS, size=NUM_MALICIOUS)\n",
    "    print(\"\\t\\tMALICIOUS:\")\n",
    "    for client in malicious_clients_index:\n",
    "        print(\"\\t\\t\\t{}\".format(sample_clients[client]))\n",
    "    print(\"\\n\")\n",
    "\n",
    "    for index in malicious_clients_index:\n",
    "        federated_train_data[index] = preprocess(train_datasets[index], poison=True)  \n",
    "\n",
    "    state = iterative_process.initialize()\n",
    "\n",
    "    for round_num in range(NUM_ROUNDS+1):\n",
    "        test_metrics = evaluation(iterative_process.get_model_weights(state), federated_test_data)\n",
    "        malicious_metrics = evaluation(iterative_process.get_model_weights(state), malicious_test_data)\n",
    "\n",
    "        result = iterative_process.next(state, federated_train_data)\n",
    "        state = result.state\n",
    "        train_metrics = result.metrics\n",
    "\n",
    "        print(\"\\t\\tROUND {:2d}, Loss^={:2f}, Accuracy^={:2f}, E^={:2d}, B^={:2d} \\n\\t\\t          Loss*={:2f}, Accuracy*={:2f}, E*={:2d}, B*={:2d} \\n\\t\\t          ASR={:2f}\\n\".format(\n",
    "            round_num, \n",
    "            train_metrics['client_work']['train']['loss'],\n",
    "            train_metrics['client_work']['train']['sparse_categorical_accuracy'],\n",
    "            train_metrics['client_work']['train']['num_examples'],\n",
    "            train_metrics['client_work']['train']['num_batches'],\n",
    "            test_metrics['eval']['loss'],\n",
    "            test_metrics['eval']['sparse_categorical_accuracy'],\n",
    "            test_metrics['eval']['num_examples'],\n",
    "            test_metrics['eval']['num_batches'],\n",
    "            malicious_metrics['eval']['sparse_categorical_accuracy']\n",
    "        ))\n",
    "        train_accuracy[experiment][round_num] = train_metrics['client_work']['train']['sparse_categorical_accuracy']\n",
    "        test_accuracy[experiment][round_num] = test_metrics['eval']['sparse_categorical_accuracy']\n",
    "        train_loss[experiment][round_num] = train_metrics['client_work']['train']['loss']\n",
    "        test_loss[experiment][round_num] = test_metrics['eval']['loss']\n",
    "        asr[experiment][round_num] = malicious_metrics['eval']['sparse_categorical_accuracy']"
   ]
  },
  {
   "cell_type": "markdown",
   "id": "9a4e1b0d",
   "metadata": {},
   "source": [
    "---"
   ]
  },
  {
   "cell_type": "markdown",
   "id": "d109d437",
   "metadata": {},
   "source": [
    "## Results"
   ]
  },
  {
   "cell_type": "code",
   "execution_count": 20,
   "id": "7d57305e",
   "metadata": {},
   "outputs": [
    {
     "data": {
      "text/plain": [
       "<matplotlib.legend.Legend at 0x7fe5301521d0>"
      ]
     },
     "execution_count": 20,
     "metadata": {},
     "output_type": "execute_result"
    },
    {
     "data": {
      "image/png": "[encoded data removed]",
      "text/plain": [
       "<Figure size 1000x1000 with 1 Axes>"
      ]
     },
     "metadata": {},
     "output_type": "display_data"
    }
   ],
   "source": [
    "plt.figure(figsize=(10,10))\n",
    "\n",
    "mean = train_accuracy.mean(axis=0)\n",
    "std = train_accuracy.std(axis=0)\n",
    "plt.plot(mean, label='Train Accuracy')\n",
    "plt.fill_between(range(len(std)), mean - std, mean + std, alpha=.3)\n",
    "\n",
    "mean = test_accuracy.mean(axis=0)\n",
    "std = test_accuracy.std(axis=0)\n",
    "plt.plot(mean, label='Test Accuracy')\n",
    "plt.fill_between(range(len(std)), mean - std, mean + std, alpha=.3)\n",
    "\n",
    "plt.xlabel('Rounds')\n",
    "plt.ylabel('Accuracy')\n",
    "\n",
    "plt.ylim([0, 1])\n",
    "plt.xlim([0,100])\n",
    "plt.grid()\n",
    "\n",
    "plt.gca().legend()"
   ]
  },
  {
   "cell_type": "code",
   "execution_count": 21,
   "id": "b7ffeece",
   "metadata": {},
   "outputs": [
    {
     "data": {
      "text/plain": [
       "<matplotlib.legend.Legend at 0x7fe530152410>"
      ]
     },
     "execution_count": 21,
     "metadata": {},
     "output_type": "execute_result"
    },
    {
     "data": {
      "image/png": "[encoded data removed]",
      "text/plain": [
       "<Figure size 1000x1000 with 1 Axes>"
      ]
     },
     "metadata": {},
     "output_type": "display_data"
    }
   ],
   "source": [
    "plt.figure(figsize=(10,10))\n",
    "\n",
    "mean = asr.mean(axis=0)\n",
    "std = asr.std(axis=0)\n",
    "plt.plot(mean, label='Attack Success Rate')\n",
    "plt.fill_between(range(len(std)), mean - std, mean + std, alpha=.3)\n",
    "\n",
    "plt.xlabel('Attack Success Rate')\n",
    "plt.ylabel('Accuracy')\n",
    "\n",
    "plt.ylim([0, 1])\n",
    "plt.xlim([0,100])\n",
    "plt.grid()\n",
    "\n",
    "plt.gca().legend()"
   ]
  },
  {
   "cell_type": "code",
   "execution_count": 22,
   "id": "f5eb25bb",
   "metadata": {},
   "outputs": [
    {
     "data": {
      "text/plain": [
       "<matplotlib.legend.Legend at 0x7fe56553d420>"
      ]
     },
     "execution_count": 22,
     "metadata": {},
     "output_type": "execute_result"
    },
    {
     "data": {
      "image/png": "[encoded data removed]",
      "text/plain": [
       "<Figure size 1000x1000 with 1 Axes>"
      ]
     },
     "metadata": {},
     "output_type": "display_data"
    }
   ],
   "source": [
    "plt.figure(figsize=(10,10))\n",
    "\n",
    "\n",
    "mean = test_accuracy.mean(axis=0)\n",
    "std = test_accuracy.std(axis=0)\n",
    "plt.plot(mean, label='Test Accuracy', color='tab:blue')\n",
    "plt.fill_between(range(len(std)), mean - std, mean + std, alpha=.3)\n",
    "\n",
    "mean = asr.mean(axis=0)\n",
    "std = asr.std(axis=0)\n",
    "plt.plot(mean, label='Attack Success Rate', color='tab:red', linestyle='dashed')\n",
    "plt.fill_between(range(len(std)), mean - std, mean + std, alpha=.3)\n",
    "\n",
    "plt.xlabel('Rounds')\n",
    "plt.ylabel('Accuracy / Attack Success Rate')\n",
    "\n",
    "plt.ylim([0, 1])\n",
    "plt.xlim([0,100])\n",
    "plt.grid()\n",
    "\n",
    "plt.gca().legend()"
   ]
  },
  {
   "cell_type": "markdown",
   "id": "30fda958",
   "metadata": {},
   "source": [
    "---"
   ]
  }
 ],
 "metadata": {
  "kernelspec": {
   "display_name": "Python 3 (ipykernel)",
   "language": "python",
   "name": "python3"
  },
  "language_info": {
   "codemirror_mode": {
    "name": "ipython",
    "version": 3
   },
   "file_extension": ".py",
   "mimetype": "text/x-python",
   "name": "python",
   "nbconvert_exporter": "python",
   "pygments_lexer": "ipython3",
   "version": "3.10.6"
  }
 },
 "nbformat": 4,
 "nbformat_minor": 5
}
